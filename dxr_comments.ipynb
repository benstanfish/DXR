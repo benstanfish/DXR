{
 "cells": [
  {
   "cell_type": "markdown",
   "id": "9508a3d0-e906-4cbf-ba94-b5306c1a81ce",
   "metadata": {},
   "source": [
    "# Defused XML Testing for Python DxReview"
   ]
  },
  {
   "cell_type": "markdown",
   "id": "8b2eba98-7ef4-4df5-b167-916b9b2c359e",
   "metadata": {},
   "source": [
    "### Imports"
   ]
  },
  {
   "cell_type": "code",
   "execution_count": 1,
   "id": "843c0a1c-69af-4c17-a00a-72c4b3d9b0d2",
   "metadata": {},
   "outputs": [],
   "source": [
    "import dxr\n",
    "from dxr_classes import *"
   ]
  },
  {
   "cell_type": "code",
   "execution_count": 2,
   "id": "6e399d4d-587c-47f2-b933-a1771df3e8eb",
   "metadata": {},
   "outputs": [],
   "source": [
    "xml_path = 'test.xml'"
   ]
  },
  {
   "cell_type": "code",
   "execution_count": 3,
   "id": "93ae3a86-3f3f-4a7a-ae03-97774a0b4658",
   "metadata": {},
   "outputs": [],
   "source": [
    "root = dxr.get_root(xml_path)"
   ]
  },
  {
   "cell_type": "code",
   "execution_count": 4,
   "id": "c2d93ad3-9e2c-4a25-988d-f065cd198c64",
   "metadata": {},
   "outputs": [
    {
     "name": "stdout",
     "output_type": "stream",
     "text": [
      "<class 'xml.etree.ElementTree.Element'>\n"
     ]
    }
   ],
   "source": [
    "print(type(root))"
   ]
  },
  {
   "cell_type": "code",
   "execution_count": 5,
   "id": "07482492-83e0-421b-a23e-951739872986",
   "metadata": {},
   "outputs": [
    {
     "data": {
      "text/plain": [
       "'Comments'"
      ]
     },
     "execution_count": 5,
     "metadata": {},
     "output_type": "execute_result"
    }
   ],
   "source": [
    "root[1].tag"
   ]
  },
  {
   "cell_type": "code",
   "execution_count": 6,
   "id": "67fc5e1d-6e88-4611-b484-c7b52c4e2c6b",
   "metadata": {},
   "outputs": [
    {
     "data": {
      "text/plain": [
       "114"
      ]
     },
     "execution_count": 6,
     "metadata": {},
     "output_type": "execute_result"
    }
   ],
   "source": [
    "comments_element = dxr.get_comments_element(root)\n",
    "dxr.comment_count(comments_element)"
   ]
  },
  {
   "cell_type": "code",
   "execution_count": 7,
   "id": "9563825b-ff64-4467-914d-d926c0c8cfc9",
   "metadata": {},
   "outputs": [],
   "source": [
    "proj_info_element, comments_element = dxr.get_review_elements(root)"
   ]
  },
  {
   "cell_type": "code",
   "execution_count": 8,
   "id": "6041cd3b-fe1f-498f-99b0-de97f9144a26",
   "metadata": {},
   "outputs": [
    {
     "data": {
      "text/plain": [
       "114"
      ]
     },
     "execution_count": 8,
     "metadata": {},
     "output_type": "execute_result"
    }
   ],
   "source": [
    "len(comments_element)"
   ]
  },
  {
   "cell_type": "code",
   "execution_count": 9,
   "id": "26fa6b01-4c8e-4007-999c-7820c70f4ad7",
   "metadata": {},
   "outputs": [
    {
     "name": "stdout",
     "output_type": "stream",
     "text": [
      "[Errno 2] No such file or directory: 'hello.py'\n",
      "False\n"
     ]
    }
   ],
   "source": [
    "root3 = dxr.get_root('hello.py')\n",
    "print(root3 != None)"
   ]
  },
  {
   "cell_type": "code",
   "execution_count": 10,
   "id": "ddef6465-3ce2-4686-8f49-4ead5af32177",
   "metadata": {},
   "outputs": [],
   "source": [
    "comment_list = []\n",
    "for comment in comments_element:\n",
    "    comment_list.append(Comment(comment))\n",
    "\n",
    "convo = Comments(comment_list)"
   ]
  },
  {
   "cell_type": "code",
   "execution_count": 11,
   "id": "1a21c007-0799-4f05-a9fc-a3b28d266496",
   "metadata": {},
   "outputs": [
    {
     "data": {
      "text/plain": [
       "1"
      ]
     },
     "execution_count": 11,
     "metadata": {},
     "output_type": "execute_result"
    }
   ],
   "source": [
    "a_comment = comment_list[0]\n",
    "a_comment.evaluations.count"
   ]
  },
  {
   "cell_type": "code",
   "execution_count": 12,
   "id": "849c26ef-df8c-4359-8527-e5233f53fc53",
   "metadata": {},
   "outputs": [],
   "source": [
    "#an_eval.id"
   ]
  },
  {
   "cell_type": "code",
   "execution_count": 13,
   "id": "7528bb9b-0e27-4e04-a468-2a6f020ebb89",
   "metadata": {},
   "outputs": [
    {
     "data": {
      "text/plain": [
       "1"
      ]
     },
     "execution_count": 13,
     "metadata": {},
     "output_type": "execute_result"
    }
   ],
   "source": [
    "a_comment.evaluations.count"
   ]
  },
  {
   "cell_type": "code",
   "execution_count": 14,
   "id": "82f3493f-bfad-4ab4-988c-96edea2c7c87",
   "metadata": {},
   "outputs": [
    {
     "data": {
      "text/plain": [
       "{'id': '10732282',\n",
       " 'spec': 'n/a',\n",
       " 'sheet': None,\n",
       " 'detail': None,\n",
       " 'critical': 'No',\n",
       " 'text': 'Page 927-934 and 944-951, Room Information Entered Values\\n\\nPlease provide justification why the People Based Rates are 0.0 cfm/person and the Area Based Rate are 0.0 cfm/ft2.',\n",
       " 'attachment': None,\n",
       " 'docref': None,\n",
       " 'author': 'Yat Hung Chan',\n",
       " 'date': datetime.datetime(2024, 4, 2, 11, 51),\n",
       " 'status': 'Closed',\n",
       " 'discipline': 'Mechanical',\n",
       " 'coordinatingdiscipline': 'Structural',\n",
       " 'doctype': 'Design Analysis',\n",
       " 'evaluations': [{'id': '11776643',\n",
       "   'parent_id': '10732282',\n",
       "   'status': 'Check And Resolve',\n",
       "   'impact_scope': 'No',\n",
       "   'impact_cost': 'No',\n",
       "   'impact_time': 'No',\n",
       "   'text': 'In order to do separate DOAS units the occupant ventilation load was pulled out of the AHU spaces and put into the DOAS spaces. The ventilation load is still in the load calculation, they are just in a different space. See the \"vent only\" spaces (page 937, 940, 943) with the ventilation loads matching the ventilation calculation documents.',\n",
       "   'attachment': None,\n",
       "   'author': 'Rebecca Knolle',\n",
       "   'date': datetime.datetime(2024, 4, 23, 12, 48)}],\n",
       " 'backchecks': [{'id': '10676250',\n",
       "   'parent_id': '10732282',\n",
       "   'evaluation_id': '11776643',\n",
       "   'status': 'Concur',\n",
       "   'text': 'Closed without comment.',\n",
       "   'attachment': None,\n",
       "   'author': 'Yat Hung Chan',\n",
       "   'date': datetime.datetime(2024, 4, 23, 15, 19)}]}"
      ]
     },
     "execution_count": 14,
     "metadata": {},
     "output_type": "execute_result"
    }
   ],
   "source": [
    "a_comment.dump()"
   ]
  },
  {
   "cell_type": "code",
   "execution_count": 15,
   "id": "0f9ebaaf-58dc-4355-b1d7-4db635798d8d",
   "metadata": {},
   "outputs": [
    {
     "data": {
      "text/plain": [
       "dxr_classes.Evaluations"
      ]
     },
     "execution_count": 15,
     "metadata": {},
     "output_type": "execute_result"
    }
   ],
   "source": [
    "type(a_comment.evaluations)"
   ]
  },
  {
   "cell_type": "code",
   "execution_count": 16,
   "id": "eb9185e8-ff7f-46d5-b4e9-9895a316f337",
   "metadata": {},
   "outputs": [
    {
     "data": {
      "text/plain": [
       "[{'id': '11776643',\n",
       "  'parent_id': '10732282',\n",
       "  'status': 'Check And Resolve',\n",
       "  'impact_scope': 'No',\n",
       "  'impact_cost': 'No',\n",
       "  'impact_time': 'No',\n",
       "  'text': 'In order to do separate DOAS units the occupant ventilation load was pulled out of the AHU spaces and put into the DOAS spaces. The ventilation load is still in the load calculation, they are just in a different space. See the \"vent only\" spaces (page 937, 940, 943) with the ventilation loads matching the ventilation calculation documents.',\n",
       "  'attachment': None,\n",
       "  'author': 'Rebecca Knolle',\n",
       "  'date': datetime.datetime(2024, 4, 23, 12, 48)}]"
      ]
     },
     "execution_count": 16,
     "metadata": {},
     "output_type": "execute_result"
    }
   ],
   "source": [
    "evals = a_comment.evaluations\n",
    "evals.dump()"
   ]
  },
  {
   "cell_type": "code",
   "execution_count": 17,
   "id": "46122bd9-b6e2-49c0-86d2-276eb78a931a",
   "metadata": {},
   "outputs": [
    {
     "data": {
      "text/plain": [
       "114"
      ]
     },
     "execution_count": 17,
     "metadata": {},
     "output_type": "execute_result"
    }
   ],
   "source": [
    "len(root[1].findall('comment'))"
   ]
  },
  {
   "cell_type": "code",
   "execution_count": 18,
   "id": "5eb9a368-812f-4be9-a74a-8c8a566eecbd",
   "metadata": {},
   "outputs": [
    {
     "data": {
      "text/plain": [
       "<Element 'ProjNet' at 0x0000024F6C28DBC0>"
      ]
     },
     "execution_count": 18,
     "metadata": {},
     "output_type": "execute_result"
    }
   ],
   "source": [
    "root"
   ]
  },
  {
   "cell_type": "code",
   "execution_count": 19,
   "id": "9408a4b2-ef81-4f92-b4cf-1a5c0b89ad48",
   "metadata": {},
   "outputs": [],
   "source": [
    "comments_list = [Comment(elem) for elem in root[1].findall('comment')]\n",
    "#comments_list"
   ]
  },
  {
   "cell_type": "code",
   "execution_count": 20,
   "id": "814c0ffd-3474-4c2a-8713-7cc8b8eaae8c",
   "metadata": {},
   "outputs": [
    {
     "data": {
      "text/plain": [
       "114"
      ]
     },
     "execution_count": 20,
     "metadata": {},
     "output_type": "execute_result"
    }
   ],
   "source": [
    "total_comments = Comments(comments_list)\n",
    "total_comments.count"
   ]
  },
  {
   "cell_type": "code",
   "execution_count": 21,
   "id": "9f04df8c-a044-4c19-85b1-f82b5408ba7a",
   "metadata": {},
   "outputs": [
    {
     "data": {
      "text/plain": [
       "114"
      ]
     },
     "execution_count": 21,
     "metadata": {},
     "output_type": "execute_result"
    }
   ],
   "source": [
    "total_comments2 = Comments([Comment(elem) for elem in root[1].findall('comment')])\n",
    "total_comments2.count"
   ]
  },
  {
   "cell_type": "code",
   "execution_count": 22,
   "id": "e08fdb6d-2088-478d-9d80-3ced967e8e18",
   "metadata": {},
   "outputs": [],
   "source": [
    "#total_comments2.dump()"
   ]
  },
  {
   "cell_type": "code",
   "execution_count": 23,
   "id": "2271c830-4325-4806-9d5f-9877cd581f74",
   "metadata": {},
   "outputs": [],
   "source": [
    "all_comments = Comments([Comment(elem) for elem in root[1].findall('comment')])"
   ]
  },
  {
   "cell_type": "code",
   "execution_count": 24,
   "id": "432202b1-c09a-4ffa-b472-9bf311021b11",
   "metadata": {},
   "outputs": [
    {
     "data": {
      "text/plain": [
       "114"
      ]
     },
     "execution_count": 24,
     "metadata": {},
     "output_type": "execute_result"
    }
   ],
   "source": [
    "all_comments.count"
   ]
  },
  {
   "cell_type": "code",
   "execution_count": 25,
   "id": "b325df6d-3484-4cae-aaa4-9ba6c5184144",
   "metadata": {},
   "outputs": [
    {
     "data": {
      "text/plain": [
       "3"
      ]
     },
     "execution_count": 25,
     "metadata": {},
     "output_type": "execute_result"
    }
   ],
   "source": [
    "all_comments.max_evaluations"
   ]
  },
  {
   "cell_type": "code",
   "execution_count": null,
   "id": "0c9e1668-6dab-43fb-88ba-16a4ac03fe79",
   "metadata": {},
   "outputs": [],
   "source": [
    "all_comments.max_backchecks"
   ]
  },
  {
   "cell_type": "code",
   "execution_count": null,
   "id": "bf2d0392-cb96-49e1-8add-337ae9c4247a",
   "metadata": {},
   "outputs": [],
   "source": []
  },
  {
   "cell_type": "code",
   "execution_count": null,
   "id": "3b858e37-86f9-4728-ba98-a505650822d6",
   "metadata": {},
   "outputs": [],
   "source": []
  }
 ],
 "metadata": {
  "kernelspec": {
   "display_name": "Python 3 (ipykernel)",
   "language": "python",
   "name": "python3"
  },
  "language_info": {
   "codemirror_mode": {
    "name": "ipython",
    "version": 3
   },
   "file_extension": ".py",
   "mimetype": "text/x-python",
   "name": "python",
   "nbconvert_exporter": "python",
   "pygments_lexer": "ipython3",
   "version": "3.13.1"
  }
 },
 "nbformat": 4,
 "nbformat_minor": 5
}

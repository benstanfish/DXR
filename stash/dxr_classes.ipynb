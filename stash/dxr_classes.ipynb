{
 "cells": [
  {
   "cell_type": "markdown",
   "id": "9508a3d0-e906-4cbf-ba94-b5306c1a81ce",
   "metadata": {},
   "source": [
    "# DXR Classes Test"
   ]
  },
  {
   "cell_type": "markdown",
   "id": "8b2eba98-7ef4-4df5-b167-916b9b2c359e",
   "metadata": {},
   "source": [
    "### Imports"
   ]
  },
  {
   "cell_type": "code",
   "execution_count": 1,
   "id": "843c0a1c-69af-4c17-a00a-72c4b3d9b0d2",
   "metadata": {},
   "outputs": [],
   "source": [
    "import dxr\n",
    "from dxr_classes import *"
   ]
  },
  {
   "cell_type": "code",
   "execution_count": 2,
   "id": "6e399d4d-587c-47f2-b933-a1771df3e8eb",
   "metadata": {},
   "outputs": [],
   "source": [
    "xml_path = 'test.xml'"
   ]
  },
  {
   "cell_type": "code",
   "execution_count": 3,
   "id": "93ae3a86-3f3f-4a7a-ae03-97774a0b4658",
   "metadata": {},
   "outputs": [],
   "source": [
    "root = dxr.get_root(xml_path)"
   ]
  },
  {
   "cell_type": "code",
   "execution_count": 4,
   "id": "c2d93ad3-9e2c-4a25-988d-f065cd198c64",
   "metadata": {},
   "outputs": [
    {
     "name": "stdout",
     "output_type": "stream",
     "text": [
      "<class 'xml.etree.ElementTree.Element'>\n"
     ]
    }
   ],
   "source": [
    "print(type(root))"
   ]
  },
  {
   "cell_type": "code",
   "execution_count": 5,
   "id": "bf2d0392-cb96-49e1-8add-337ae9c4247a",
   "metadata": {},
   "outputs": [
    {
     "data": {
      "text/plain": [
       "<Element 'Comments' at 0x00000287E1A7C400>"
      ]
     },
     "execution_count": 5,
     "metadata": {},
     "output_type": "execute_result"
    }
   ],
   "source": [
    "comments_node = root[1]\n",
    "comments_node"
   ]
  },
  {
   "cell_type": "code",
   "execution_count": 6,
   "id": "3b858e37-86f9-4728-ba98-a505650822d6",
   "metadata": {},
   "outputs": [
    {
     "data": {
      "text/plain": [
       "114"
      ]
     },
     "execution_count": 6,
     "metadata": {},
     "output_type": "execute_result"
    }
   ],
   "source": [
    "all_comments = Comments.from_element(comments_node)\n",
    "all_comments.count"
   ]
  },
  {
   "cell_type": "code",
   "execution_count": 7,
   "id": "35536347-767b-46b4-8b02-aa8ada7036f7",
   "metadata": {},
   "outputs": [
    {
     "data": {
      "text/plain": [
       "'P530 Aircraft Intermediate Maintenance Facility, Kadena AB'"
      ]
     },
     "execution_count": 7,
     "metadata": {},
     "output_type": "execute_result"
    }
   ],
   "source": [
    "a_review = Review.from_root(root)\n",
    "a_review.project_info.project_name"
   ]
  },
  {
   "cell_type": "code",
   "execution_count": 8,
   "id": "e6a07e2f-2a8c-4489-898d-796aa5921343",
   "metadata": {},
   "outputs": [],
   "source": [
    "# a_review.project_info.dump()"
   ]
  },
  {
   "cell_type": "code",
   "execution_count": 9,
   "id": "f6b7c4d1-e8d3-487d-b48a-1c3db3d604a1",
   "metadata": {},
   "outputs": [],
   "source": [
    "# a_review.comments.dump()"
   ]
  },
  {
   "cell_type": "code",
   "execution_count": 10,
   "id": "4793cc97-cb08-449b-8333-1d27f5fc1432",
   "metadata": {
    "scrolled": true
   },
   "outputs": [],
   "source": [
    "# a_review.dump()"
   ]
  },
  {
   "cell_type": "code",
   "execution_count": 11,
   "id": "9e6f2e10-8387-4a5a-b827-537449d16f0a",
   "metadata": {},
   "outputs": [],
   "source": [
    "# a_review.to_json()"
   ]
  },
  {
   "cell_type": "code",
   "execution_count": 12,
   "id": "a43688f1-cb27-4a33-bd31-07b91fa74a1d",
   "metadata": {},
   "outputs": [],
   "source": [
    "BOLD = '\\033[1m'\n",
    "NORMAL = '\\033[0m'"
   ]
  },
  {
   "cell_type": "code",
   "execution_count": 13,
   "id": "f1fed3ce-37c6-422c-9791-3668821e463a",
   "metadata": {},
   "outputs": [
    {
     "name": "stdout",
     "output_type": "stream",
     "text": [
      "\u001b[1m10732282\u001b[0m\n",
      "Page 927-934 and 944-951, Room Information Entered Values\n",
      "\n",
      "Please provide justification why the People Based Rates are 0.0 cfm/person and the Area Based Rate are 0.0 cfm/ft2.\n",
      "--------------------------------------------------\n",
      "\u001b[1m10732362\u001b[0m\n",
      "Please call out what kinds of piping on P-100, for examples SS, R,...etc.\n",
      "--------------------------------------------------\n",
      "\u001b[1m10732364\u001b[0m\n",
      "(1) Radon piping is shown on P-130; however, the radon risers are missing on P-131B to P-131D. Please correct.\n",
      "\n",
      "(2) Please add radon piping to the symbol and abbreviation on P-001.\n",
      "--------------------------------------------------\n",
      "\u001b[1m10734405\u001b[0m\n",
      "Mothers Room 207 on the 2nd floor near Grid 3C is missing supply and return conditioned air.\n",
      "\n",
      "Please correct.\n",
      "--------------------------------------------------\n",
      "\u001b[1m10734477\u001b[0m\n",
      "The door of Mothers Room 207 on the 2nd floor near Grid 3C is missing in the architectural background in some mechanical plans.\n",
      "\n",
      "Please correct.\n",
      "--------------------------------------------------\n",
      "\u001b[1m10736714\u001b[0m\n",
      "Paint Booth 119C near Grid 4B is missing the exhaust and makeup air. Moreover, it is mentioned in the air balance calculation on Page 863 of 1702 in P530 AIMF_DESIGN ANALYSIS_20240401.pdf that \"Paint booth will have a designated EF with make up air unit to operate independently of bldg. HVAC.\"\n",
      "\n",
      "If the required information for sizing and selecting the equipment will be available after the 35% Concept Design, please state that in the drawing with a keynote. Otherwise please provide the exhaust and makeup air to the space.\n",
      "--------------------------------------------------\n",
      "\u001b[1m10736770\u001b[0m\n",
      "P530 AIMF_DESIGN ANALYSIS_20240401.pdf, Page 1124 of 1702,\n",
      "\n",
      "please see attached to remove one of the duplicate paragraphs.\n",
      "--------------------------------------------------\n",
      "\u001b[1m10736813\u001b[0m\n",
      "P530 AIMF_DESIGN ANALYSIS_20240401.pdf, Page 1127 of 1702, in Section 9.7, it was mentioned that \"forced ducted exhaust will be provided\" for radon mitigation; however, can't find the radon exhaust fans on plans. Please correct.\n",
      "--------------------------------------------------\n",
      "\u001b[1m10736816\u001b[0m\n",
      "On plans the point-of-use water heaters are called WH-1; however, the schedule shows it as WH2.\n",
      "\n",
      "Please reconcile.\n",
      "--------------------------------------------------\n",
      "\u001b[1m10736892\u001b[0m\n",
      "P530 AIMF_DESIGN ANALYSIS_20240401.pdf, Page 1141 of 1702, there is a discrepancy of the usage (in minutes) of the service sink in the list vs. the table. Please see attached and correct.\n",
      "--------------------------------------------------\n",
      "\u001b[1m10739106\u001b[0m\n",
      "A few sanitary sewer drain pipes are shown encased longitudinally in structural foundation elements. Please see attached for reference.\n",
      "\n",
      "Please coordinate with structural engineer to provide section views.\n",
      "--------------------------------------------------\n",
      "\u001b[1m10742631\u001b[0m\n",
      "EQUIPMENT NOTES, #2 says \"PROVIDE 200mm (4\") HIGH, CONCRETE HOUSEKEEPING PAD UNDER ALL FLOOR MOUNTED WATER HEATERS AND EQUIPMENT REQUIRING HOUSEKEEPING PADS. SEE STRUCTURAL FOR PAD REQUIREMENTS AND DETAILS.\"\n",
      "\n",
      "Please revise the note from 200mm (4\") to 150mm (6\"), and coordinate with structural engineer to update the detail.\n",
      "--------------------------------------------------\n",
      "\u001b[1m10742655\u001b[0m\n",
      "No need to repeat the GENERAL SHEET NOTES on P-100A to P131D. Please move them to P-001.\n",
      "\n",
      "Sheet note should be specific to the sheet.\n",
      "--------------------------------------------------\n",
      "\u001b[1m10742675\u001b[0m\n",
      "Please provide justification to locate the potable water backflow preventer and 100mm radon riser in FIRE PROTECTION 122 instead of MECHANICAL 123.\n",
      "--------------------------------------------------\n",
      "\u001b[1m10742722\u001b[0m\n",
      "These 3 details seem to describe the same compressed air connection station. Please reconcile and show only one detail.\n",
      "--------------------------------------------------\n",
      "\u001b[1m10742737\u001b[0m\n",
      "PLUMBING FIXTURE SCHEDULE, please change ADA COMPLIANT TO ABA COMPLIANT in the table header.\n",
      "--------------------------------------------------\n",
      "\u001b[1m10742759\u001b[0m\n",
      "Please justify locating CU-1 so far away from CU-2 and CU-3. A single concrete equipment could be use for all 3 CU's if they are at the same location.\n",
      "--------------------------------------------------\n",
      "\u001b[1m10744999\u001b[0m\n",
      "(1) Please justify the hugely oversized chilled and hot water coils in AHU-1, AHU-2, and AHU-3.\n",
      "\n",
      "(2) Please explain how the EWT (13.9 C) at the chiller become lower than the LWT (14.0 C) at the AHU's.\n",
      "\n",
      "Please see attached for reference.\n",
      "--------------------------------------------------\n",
      "\u001b[1m10746877\u001b[0m\n",
      "M-601 shows exhaust fans and VAV boxes in 277V/1ph and other equipment in 480V/3ph.\n",
      "\n",
      "277V and 480V are not commonly provided in Japan so local equipment manufacturers usually do not make equipment in 277V or 480V. Japanese standard voltages are 100/200/400V.\n",
      "\n",
      "Please propose solutions and prepare to discuss in OBR meeting.\n",
      "--------------------------------------------------\n",
      "\u001b[1m10746894\u001b[0m\n",
      "Please remove the brand specify information in the AHU/DOAS schedule.\n",
      "--------------------------------------------------\n",
      "\u001b[1m10747151\u001b[0m\n",
      "Please revise the callout in Detail A12 to not show the brand information (KAESER MODEL KCF-50).\n",
      "--------------------------------------------------\n",
      "\u001b[1m10747160\u001b[0m\n",
      "(1) Please remove \"COMPRESSED AIR AND\" from the Detail title C1 on P-130 and revise the block title accordingly. Please see attached for reference.\n",
      "\n",
      "(2) Please provide an overall plan for the compressed air system.\n",
      "\n",
      "(3) Please provide enlarged plan and section views of the air the compressor room near Grid 4E.\n",
      "--------------------------------------------------\n",
      "\u001b[1m10747190\u001b[0m\n",
      "The performance of HWP-1 and HWP-2 in the design analysis (Page 984 of 1702) do not match the ones in the schedule on M-601.\n",
      "--------------------------------------------------\n",
      "\u001b[1m10749494\u001b[0m\n",
      "In the AHUs/DOAS Schedule, the supply fan airflows of AHU-1, AHU-2, and DOAS-1 match the Actual Airflows in the cutsheets; however, the supply fan airflow of AHU-3 does not--Standard Airflow is shown instead in the schedule.\n",
      "\n",
      "Please correct.\n",
      "--------------------------------------------------\n",
      "\u001b[1m10749536\u001b[0m\n",
      "Please provide section views for the mechanical rooms.\n",
      "--------------------------------------------------\n",
      "\u001b[1m10749567\u001b[0m\n",
      "A round gravity intake ventilator (IV-1) is included on Page 1062 of 1702 in the Design Analysis; however, it is not tagged on MH102D (near Grid 2.7G).\n",
      "\n",
      "Please tag the ventilator and provide a schedule on M-601.\n",
      "--------------------------------------------------\n",
      "\u001b[1m10755028\u001b[0m\n",
      "Please provide a sink to Battery Shop 118/118A/118B per P-8A POSEIDON FACILITIES REQUIREMENT DOCUMENT, D809-00219-1_Facilities_Rqmts_doc_Re.pdf (Page 74 of 112).\n",
      "--------------------------------------------------\n",
      "\u001b[1m10755088\u001b[0m\n",
      "Please provide emergency eyewash/shower in the battery shop per UFC 3-520-05 STATIONARY AND MISSION BATTERIES, Section 2-5.\n",
      "--------------------------------------------------\n",
      "\u001b[1m10755123\u001b[0m\n",
      "Keynote #1 says \"DOAS UNITS TO BE MOUNTED ON 100 MM CONCRETE PADS ON THE FLOOR.\"\n",
      "\n",
      "Please change the concrete pads height to 150mm.\n",
      "--------------------------------------------------\n"
     ]
    }
   ],
   "source": [
    "some_comments = [comment for comment in a_review.comments.comments_list if comment.author == 'Yat Hung Chan']\n",
    "for comment in some_comments:\n",
    "    print(BOLD + comment.id + NORMAL)\n",
    "    print(comment.text)\n",
    "    print('-' * 50)"
   ]
  },
  {
   "cell_type": "code",
   "execution_count": 14,
   "id": "aee39421-723f-4947-8071-969e4267720b",
   "metadata": {},
   "outputs": [
    {
     "data": {
      "text/plain": [
       "['joel reyes',\n",
       " 'atsushi nagamine',\n",
       " 'michael teller',\n",
       " 'steven mow',\n",
       " 'ryuji yamagami',\n",
       " 'naoko kubota',\n",
       " 'sherwin edquiban',\n",
       " 'gregory church',\n",
       " 'tony blackburn',\n",
       " 'yat hung chan',\n",
       " 'simon jackson',\n",
       " 'ayako fuchino']"
      ]
     },
     "execution_count": 14,
     "metadata": {},
     "output_type": "execute_result"
    }
   ],
   "source": [
    "all_authors = list(set([comment.author.lower() for comment in a_review.comments.comments_list]))\n",
    "all_authors"
   ]
  },
  {
   "cell_type": "code",
   "execution_count": 15,
   "id": "d7d43968-be66-4bd1-a705-238246c91f8e",
   "metadata": {},
   "outputs": [],
   "source": [
    "def get_authors_comments(an_author, a_review):\n",
    "    return [comment for comment in a_review.comments.comments_list if comment.author.lower() == an_author.lower()]"
   ]
  },
  {
   "cell_type": "code",
   "execution_count": 16,
   "id": "7c0266de-5ab9-4cfc-93f1-4ec2ec12b844",
   "metadata": {},
   "outputs": [
    {
     "name": "stdout",
     "output_type": "stream",
     "text": [
      "\u001b[1m10757486\u001b[0m\n",
      "Please ensure that any attachments for 01 33 29 are included as well.\n",
      " \n",
      "Att A-HPSB checklist\n",
      "Att B-Third-Party Certification documents/forms\n",
      "\n",
      "The names for these attachments may be tailored as the team sees fit.\n",
      "--------------------------------------------------\n",
      "\u001b[1m10757491\u001b[0m\n",
      "FIO - ensure that \"S\" submittals which support project sustainability HPSB & TPC goals are noted as such in the 01 33 00-B Submittal register for the next design milestone.\n",
      "--------------------------------------------------\n",
      "\u001b[1m10757518\u001b[0m\n",
      "check General notes, remove references to other installations. (i.e. note #3 YAB, etc.)\n",
      "\n",
      "check for consistent drawing sheet references also. i.e. there is currently no A-002 in the set but is referenced in the general notes.\n",
      "--------------------------------------------------\n"
     ]
    }
   ],
   "source": [
    "selected_comments = get_authors_comments('michael teller', a_review)\n",
    "for comment in selected_comments:\n",
    "    print(BOLD + comment.id + NORMAL)\n",
    "    print(comment.text)\n",
    "    print('-' * 50)   "
   ]
  },
  {
   "cell_type": "code",
   "execution_count": 17,
   "id": "df8b48f1-4943-436f-9be2-7b93e507a0cb",
   "metadata": {
    "scrolled": true
   },
   "outputs": [
    {
     "data": {
      "text/plain": [
       "['Yat Hung Chan',\n",
       " 'Simon Jackson',\n",
       " 'Ryuji Yamagami',\n",
       " 'Sherwin Edquiban',\n",
       " 'Joel Reyes',\n",
       " 'Atsushi Nagamine',\n",
       " 'Steven Mow',\n",
       " 'Ayako Fuchino',\n",
       " 'Tony Blackburn',\n",
       " 'Michael Teller',\n",
       " 'Gregory Church',\n",
       " 'Naoko Kubota']"
      ]
     },
     "execution_count": 17,
     "metadata": {},
     "output_type": "execute_result"
    }
   ],
   "source": [
    "test_all_authors = a_review.list_all_authors\n",
    "test_all_authors"
   ]
  },
  {
   "cell_type": "code",
   "execution_count": 32,
   "id": "8e5f7b2b-f211-480b-a149-ff17d64b8c79",
   "metadata": {},
   "outputs": [
    {
     "data": {
      "text/plain": [
       "['Rebecca Knolle', 'Rebecca Knolle']"
      ]
     },
     "execution_count": 32,
     "metadata": {},
     "output_type": "execute_result"
    }
   ],
   "source": [
    "#a_comment = a_review.comments.comments_list[1]\n",
    "#a_comment.evaluations.count\n",
    "[an_eval.author for an_eval in a_review.comments.comments_list[1].evaluations.evaulations_list]"
   ]
  },
  {
   "cell_type": "code",
   "execution_count": null,
   "id": "b4ae239b-5f49-498b-8fd4-ffc4003fd5a3",
   "metadata": {},
   "outputs": [],
   "source": []
  }
 ],
 "metadata": {
  "kernelspec": {
   "display_name": "Python 3 (ipykernel)",
   "language": "python",
   "name": "python3"
  },
  "language_info": {
   "codemirror_mode": {
    "name": "ipython",
    "version": 3
   },
   "file_extension": ".py",
   "mimetype": "text/x-python",
   "name": "python",
   "nbconvert_exporter": "python",
   "pygments_lexer": "ipython3",
   "version": "3.13.1"
  }
 },
 "nbformat": 4,
 "nbformat_minor": 5
}
